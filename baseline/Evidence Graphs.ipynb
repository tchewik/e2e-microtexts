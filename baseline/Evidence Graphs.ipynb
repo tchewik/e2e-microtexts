{
 "cells": [
  {
   "cell_type": "code",
   "execution_count": 1,
   "id": "68017826-f384-41e3-87d4-94a8bf22e5ef",
   "metadata": {},
   "outputs": [],
   "source": [
    "%load_ext autoreload\n",
    "%autoreload 2"
   ]
  },
  {
   "cell_type": "code",
   "execution_count": null,
   "id": "1ec2440a-89db-40aa-9745-0ef617c697e5",
   "metadata": {},
   "outputs": [],
   "source": [
    "! unzip evidencegraph.zip"
   ]
  },
  {
   "cell_type": "code",
   "execution_count": null,
   "id": "b7b62597-0197-412c-b154-2d3ef43d020c",
   "metadata": {},
   "outputs": [],
   "source": [
    "# ! git clone https://github.com/peldszus/evidencegraph  # we will use the updated version instead"
   ]
  },
  {
   "cell_type": "code",
   "execution_count": null,
   "id": "70530a18-75b3-45cd-8ec2-72c570ac0427",
   "metadata": {},
   "outputs": [],
   "source": [
    "%%writefile evidencegraph/run_preparations.sh\n",
    "apt install libxml2-dev libxslt1-dev libpng-dev libfreetype6-dev graphviz -y\n",
    "make install-requirements\n",
    "make download-spacy-data-en\n",
    "make download-corpora\n",
    "make test\n",
    "./env/bin/pip install ipykernel\n",
    "./env/bin/python -m ipykernel install --name \"Py38-evidencegraph\""
   ]
  },
  {
   "cell_type": "code",
   "execution_count": null,
   "id": "ec91fe96-e76d-4159-90cb-86a922f9101d",
   "metadata": {},
   "outputs": [],
   "source": [
    "! cd evidencegraph && sh run_preparations.sh"
   ]
  },
  {
   "cell_type": "markdown",
   "id": "ed7c0084-0710-44f4-8682-352f865ae710",
   "metadata": {},
   "source": [
    "#### For this notebook, use python 3.8 environment from evidencegraph!"
   ]
  },
  {
   "cell_type": "markdown",
   "id": "martial-minneapolis",
   "metadata": {},
   "source": [
    "### Reproduce the experiments with EG method on the whole dataset "
   ]
  },
  {
   "cell_type": "code",
   "execution_count": 3,
   "id": "ffc44e76-97fc-442d-8002-f7163a76dab0",
   "metadata": {},
   "outputs": [
    {
     "name": "stdout",
     "output_type": "stream",
     "text": [
      "Saved evidencegraph/data/corpus/en_112\n",
      "Saved evidencegraph/data/corpus/ru_112\n",
      "Saved evidencegraph/data/corpus/en_full\n",
      "Saved evidencegraph/data/corpus/ru_full\n",
      "Saved evidencegraph/data/corpus/en2ru_full\n",
      "Saved evidencegraph/data/corpus/ru2en_full\n"
     ]
    }
   ],
   "source": [
    "# Collect the data\n",
    "! evidencegraph/env/bin/python collect_corpus_for_eg.py"
   ]
  },
  {
   "cell_type": "markdown",
   "id": "coated-fight",
   "metadata": {},
   "source": [
    "### Training"
   ]
  },
  {
   "cell_type": "code",
   "execution_count": 8,
   "id": "9a8a5f26-d11b-4087-9401-fff366496e89",
   "metadata": {},
   "outputs": [],
   "source": [
    "# ! evidencegraph/env/bin/python -m spacy download en_core_web_lg\n",
    "# ! evidencegraph/env/bin/python -m spacy download ru_core_news_lg\n",
    "\n",
    "! nohup python crossval_eg.py > /dev/null 2>&1 &"
   ]
  },
  {
   "cell_type": "markdown",
   "id": "lasting-treaty",
   "metadata": {},
   "source": [
    "### Evaluation \n",
    "Given the predictions are collected as``data/eg_results/*.json``."
   ]
  },
  {
   "cell_type": "code",
   "execution_count": 7,
   "id": "43c6c2f1-8509-4742-b3b9-b849e0604987",
   "metadata": {},
   "outputs": [
    {
     "name": "stdout",
     "output_type": "stream",
     "text": [
      "\n",
      "\n",
      "EVALUATING SETTING ru, adu, ['cc', 'sup', 'same-arg', 'att']:\n",
      "\n",
      "# Metric: Macro avg. F1\n",
      "level\ten2ru_full-features_-BC_-Cues\n",
      "cc\t87.27 (+- 6.76)\n",
      "ro\t73.81 (+- 6.42)\n",
      "fu\t73.78 (+- 6.25)\n",
      "at\t73.82 (+- 2.90)\n",
      "\n",
      "# Metric: Unlabelled attachment score\n",
      "level\ten2ru_full-features_-BC_-Cues\n",
      "uat\t61.80 (+- 5.67)\n",
      "\n",
      "# Metric: Labelled attachment score\n",
      "level\ten2ru_full-features_-BC_-Cues\n",
      "lat\t54.69 (+- 5.46)\n",
      "\n",
      "# Classwise scores (P, R, F1) for level cc\n",
      "condition\ten2ru_full-features_-BC_-Cues\n",
      "0\t95.057 (± 2.5)\t95.1 (± 2.5)\t95.1 (± 2.5)\n",
      "1\t79.486 (± 10.3)\t79.5 (± 10.3)\t79.5 (± 10.3)\n",
      "\n",
      "# Classwise scores (P, R, F1) for level ro\n",
      "condition\ten2ru_full-features_-BC_-Cues\n",
      "0\t88.374 (± 2.4)\t89.1 (± 5.7)\t88.7 (± 3.5)\n",
      "1\t62.040 (± 13.4)\t57.7 (± 9.1)\t58.9 (± 9.0)\n",
      "\n",
      "# Classwise scores (P, R, F1) for level fu\n",
      "condition\ten2ru_full-features_-BC_-Cues\n",
      "0\t79.486 (± 10.3)\t79.5 (± 10.3)\t79.5 (± 10.3)\n",
      "1\t75.581 (± 4.8)\t79.4 (± 4.9)\t77.4 (± 4.2)\n",
      "2\t68.605 (± 8.2)\t61.4 (± 6.8)\t64.5 (± 5.4)\n",
      "\n",
      "# Classwise scores (P, R, F1) for level at\n",
      "condition\ten2ru_full-features_-BC_-Cues\n",
      "0\t90.120 (± 1.1)\t90.1 (± 1.1)\t90.1 (± 1.1)\n",
      "1\t57.512 (± 4.4)\t57.5 (± 4.4)\t57.5 (± 4.4)\n"
     ]
    }
   ],
   "source": [
    "from evidencegraph.argtree import RELATION_SETS_BY_NAME\n",
    "from evidencegraph.corpus import CORPORA\n",
    "from evidencegraph.evaluation import evaluate_setting\n",
    "import os\n",
    "\n",
    "base_corpora_dir = os.path.join('evidencegraph', 'data', 'corpus')\n",
    "CORPORA.update({\n",
    "    'en_112': {'language': 'en',\n",
    "               'path': os.path.join(base_corpora_dir, 'en_112')},\n",
    "    'ru_112': {'language': 'ru',\n",
    "               'path': os.path.join(base_corpora_dir, 'ru_112')},\n",
    "    'en_full': {'language': 'en',\n",
    "                'path': os.path.join(base_corpora_dir, 'en_full')},\n",
    "    'ru_full': {'language': 'ru',\n",
    "                'path': os.path.join(base_corpora_dir, 'ru_full')},\n",
    "    'ru2en_full': {'language': 'en',\n",
    "                   'path': os.path.join(base_corpora_dir, 'ru2en_full')},\n",
    "    'en2ru_full': {'language': 'ru',\n",
    "                   'path': os.path.join(base_corpora_dir, 'en2ru_full')},\n",
    "})\n",
    "\n",
    "\n",
    "settings = {\n",
    "        # (\"adu\", \"SIMPLE_RELATION_SET\", \"en\"): [\n",
    "        #     \"en_full-features_all\", \"en_full\"\n",
    "        # ],\n",
    "        # (\"adu\", \"SIMPLE_RELATION_SET\", \"en\"): [\n",
    "        #     \"en_full-features_-BC\", \"en_full\"\n",
    "        # ],\n",
    "        # (\"adu\", \"SIMPLE_RELATION_SET\", \"en\"): [\n",
    "        #     \"en_full-features_-Cues\", \"en_full\"\n",
    "        # ],\n",
    "        # (\"adu\", \"SIMPLE_RELATION_SET\", \"en\"): [\n",
    "        #     \"en_full-features_-BC_-Cues\", \"en_full\"\n",
    "        # ],\n",
    "        # (\"adu\", \"SIMPLE_RELATION_SET\", \"ru\"): [\n",
    "        #     \"ru2en_full-features_-BC_-Cues\", \"ru2en_full\"\n",
    "        # ]\n",
    "        # (\"adu\", \"SIMPLE_RELATION_SET\", \"ru\"): [\n",
    "        #     \"ru_full-features_-BC_-Cues\", \"ru_full\"\n",
    "        # ],\n",
    "        (\"adu\", \"SIMPLE_RELATION_SET\", \"ru\"): [\n",
    "            \"en2ru_full-features_-BC_-Cues\", \"en2ru_full\"\n",
    "        ],\n",
    "    }\n",
    "\n",
    "for (segmentation, relationset, language), (condition, corpus_name) in settings.items():\n",
    "    relationset = RELATION_SETS_BY_NAME.get(relationset)\n",
    "    evaluate_setting(\n",
    "        language,\n",
    "        segmentation,\n",
    "        relationset,\n",
    "        [condition],\n",
    "        corpus_id=corpus_name,\n",
    "        predictions_path='data/eg_results/'\n",
    "    )"
   ]
  },
  {
   "cell_type": "code",
   "execution_count": 2,
   "id": "49af0f0a-136a-42fc-8734-fd657eaffa3c",
   "metadata": {},
   "outputs": [],
   "source": [
    "# from evidencegraph.evaluation import load_predictions\n",
    "\n",
    "# predictions = load_predictions('data/eg_results/en2ru_full-features_-BC_-Cues.json')"
   ]
  }
 ],
 "metadata": {
  "kernelspec": {
   "display_name": "Python [conda env:root] *",
   "language": "python",
   "name": "conda-root-py"
  },
  "language_info": {
   "codemirror_mode": {
    "name": "ipython",
    "version": 3
   },
   "file_extension": ".py",
   "mimetype": "text/x-python",
   "name": "python",
   "nbconvert_exporter": "python",
   "pygments_lexer": "ipython3",
   "version": "3.9.15"
  }
 },
 "nbformat": 4,
 "nbformat_minor": 5
}
